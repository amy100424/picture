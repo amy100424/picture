{
  "nbformat": 4,
  "nbformat_minor": 0,
  "metadata": {
    "colab": {
      "name": "0316 picture",
      "provenance": [],
      "authorship_tag": "ABX9TyM5kGQWduv5oxhxlrFa7wyr",
      "include_colab_link": true
    },
    "kernelspec": {
      "name": "python3",
      "display_name": "Python 3"
    }
  },
  "cells": [
    {
      "cell_type": "markdown",
      "metadata": {
        "id": "view-in-github",
        "colab_type": "text"
      },
      "source": [
        "<a href=\"https://colab.research.google.com/github/amy100424/picture/blob/master/0316_picture.ipynb\" target=\"_parent\"><img src=\"https://colab.research.google.com/assets/colab-badge.svg\" alt=\"Open In Colab\"/></a>"
      ]
    },
    {
      "cell_type": "code",
      "metadata": {
        "id": "M_L3-BgMaQHS",
        "colab_type": "code",
        "outputId": "7d25be40-b194-482a-91b5-739a62aed5e8",
        "colab": {
          "base_uri": "https://localhost:8080/",
          "height": 170
        }
      },
      "source": [
        "!pip install lineTool"
      ],
      "execution_count": 0,
      "outputs": [
        {
          "output_type": "stream",
          "text": [
            "Collecting lineTool\n",
            "  Downloading https://files.pythonhosted.org/packages/7a/29/7e96eef82de56d045e0016bbd7b7a41f597444ee0c7a38b0a5cdc6034a16/lineTool-1.0.3.tar.gz\n",
            "Building wheels for collected packages: lineTool\n",
            "  Building wheel for lineTool (setup.py) ... \u001b[?25l\u001b[?25hdone\n",
            "  Created wheel for lineTool: filename=lineTool-1.0.3-cp36-none-any.whl size=1465 sha256=560eb2d1c51d06599427acc92dd44539dcead9aed8d85135d0d10c6e203199f8\n",
            "  Stored in directory: /root/.cache/pip/wheels/65/ea/38/262d4b0f2edb028985f5a8b3914efd33119311e166f1e490f4\n",
            "Successfully built lineTool\n",
            "Installing collected packages: lineTool\n",
            "Successfully installed lineTool-1.0.3\n"
          ],
          "name": "stdout"
        }
      ]
    },
    {
      "cell_type": "code",
      "metadata": {
        "id": "vcznBSuEaT5e",
        "colab_type": "code",
        "colab": {}
      },
      "source": [
        "import lineTool\n",
        "\n",
        "token=\"Y1Erpuvv4VjJT8QbYzUi0RwGCuH5Gtl3p0OdDv9K0gF\"\n",
        "\n",
        "def linePush(msg):\n",
        "    lineTool.lineNotify(token, msg)"
      ],
      "execution_count": 0,
      "outputs": []
    },
    {
      "cell_type": "code",
      "metadata": {
        "id": "fnvM8_lCaV8l",
        "colab_type": "code",
        "outputId": "b7d7d268-0bdd-4a5b-8d0a-e77dfff783f0",
        "colab": {
          "base_uri": "https://localhost:8080/",
          "height": 34
        }
      },
      "source": [
        "lineTool.lineNotify(token, '0')"
      ],
      "execution_count": 0,
      "outputs": [
        {
          "output_type": "execute_result",
          "data": {
            "text/plain": [
              "200"
            ]
          },
          "metadata": {
            "tags": []
          },
          "execution_count": 3
        }
      ]
    },
    {
      "cell_type": "code",
      "metadata": {
        "id": "t3JwgJyfaaue",
        "colab_type": "code",
        "outputId": "09696f03-b020-49b9-f086-b5e766ee3119",
        "colab": {
          "base_uri": "https://localhost:8080/",
          "height": 34
        }
      },
      "source": [
        "import requests, os\n",
        " \n",
        "\"\"\"\n",
        "發送 Line Notify 訊息\n",
        "\"\"\"\n",
        "def lineNotify(token, msg, picURI):\n",
        "    url = \"https://notify-api.line.me/api/notify\"\n",
        "    headers = {\n",
        "        \"Authorization\": \"Bearer \" + token\n",
        "    }\n",
        "   \n",
        "    payload = {'message': msg}\n",
        "    files = {'imageFile': open(picURI, 'rb')}\n",
        "    r = requests.post(url, headers = headers, params = payload, files = files)\n",
        "    return r.status_code\n",
        " \n",
        " \n",
        "#token = os.environ[\"LINE_TEST_TOKEN\"]\n",
        "token=\"Y1Erpuvv4VjJT8QbYzUi0RwGCuH5Gtl3p0OdDv9K0gF\"\n",
        "msg = \"閔suga天才讚讚man蹦蹦\"\n",
        "picURI = \"1.jpeg\"\n",
        " \n",
        " \n",
        "lineNotify(token, msg, picURI)"
      ],
      "execution_count": 0,
      "outputs": [
        {
          "output_type": "execute_result",
          "data": {
            "text/plain": [
              "200"
            ]
          },
          "metadata": {
            "tags": []
          },
          "execution_count": 8
        }
      ]
    },
    {
      "cell_type": "code",
      "metadata": {
        "id": "1O8xeWUfazG4",
        "colab_type": "code",
        "outputId": "b659a7cc-c731-4f3e-ab7e-e8067b4c213e",
        "colab": {
          "base_uri": "https://localhost:8080/",
          "height": 34
        }
      },
      "source": [
        "picURI = \"2.jpeg\"\n",
        "lineNotify(token, msg, picURI)"
      ],
      "execution_count": 0,
      "outputs": [
        {
          "output_type": "execute_result",
          "data": {
            "text/plain": [
              "200"
            ]
          },
          "metadata": {
            "tags": []
          },
          "execution_count": 9
        }
      ]
    },
    {
      "cell_type": "code",
      "metadata": {
        "id": "XRUSKhraa4We",
        "colab_type": "code",
        "outputId": "0ea6bdd3-81dc-4e03-8c10-d562f2f405ec",
        "colab": {
          "base_uri": "https://localhost:8080/",
          "height": 34
        }
      },
      "source": [
        "picURI = \"3.jpeg\"\n",
        "lineNotify(token, msg, picURI)"
      ],
      "execution_count": 0,
      "outputs": [
        {
          "output_type": "execute_result",
          "data": {
            "text/plain": [
              "200"
            ]
          },
          "metadata": {
            "tags": []
          },
          "execution_count": 10
        }
      ]
    }
  ]
}